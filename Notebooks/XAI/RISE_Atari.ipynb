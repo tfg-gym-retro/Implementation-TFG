{
 "cells": [
  {
   "cell_type": "markdown",
   "metadata": {
    "id": "RU_HTGYcAFhF"
   },
   "source": [
    "# Randomized Image Sampling for Explanations (RISE)"
   ]
  },
  {
   "cell_type": "code",
   "execution_count": null,
   "metadata": {
    "id": "M34fHeh8AFhG"
   },
   "outputs": [],
   "source": [
    "import os\n",
    "import numpy as np\n",
    "from matplotlib import pyplot as plt\n",
    "from skimage.transform import resize as resize1\n",
    "from tqdm import tqdm\n",
    "import tensorflow as tf\n",
    "import tensorflow.keras as keras\n",
    "import gym\n",
    "import tensorforce\n",
    "from tensorforce import Agent, Environment\n",
    "\n",
    "from PIL import Image\n",
    "import torchvision.transforms as T\n",
    "import torch\n",
    "\n",
    "import math\n",
    "import random\n",
    "import numpy as np"
   ]
  },
  {
   "cell_type": "code",
   "execution_count": null,
   "metadata": {
    "id": "8ia2-v-oAFhI"
   },
   "outputs": [],
   "source": [
    "import retro\n",
    "import time\n",
    "from tensorforce import Agent, Environment"
   ]
  },
  {
   "cell_type": "markdown",
   "metadata": {
    "id": "kY2lw0-sAFhI"
   },
   "source": [
    "## Cargar agente y definición de entorno"
   ]
  },
  {
   "cell_type": "code",
   "execution_count": null,
   "metadata": {
    "id": "9tQacjUDAFhJ"
   },
   "outputs": [],
   "source": [
    "agent = Agent.load(directory='DQN-ATARI-VISION-GRAYSCALE-HALF-COMPLETO')"
   ]
  },
  {
   "cell_type": "code",
   "execution_count": null,
   "metadata": {
    "id": "URf-yem4AFhK",
    "outputId": "f599d641-bd98-43a0-d84d-5202ad628933"
   },
   "outputs": [],
   "source": [
    "env = gym.make('SpaceInvaders-v0')\n",
    "environment = Environment.create(environment=env)"
   ]
  },
  {
   "cell_type": "code",
   "execution_count": null,
   "metadata": {},
   "outputs": [],
   "source": [
    "meanings = env.unwrapped.get_action_meanings()"
   ]
  },
  {
   "cell_type": "code",
   "execution_count": null,
   "metadata": {
    "id": "vNvKi3lbAFhK",
    "outputId": "6ee610fe-fc64-4c26-849a-b3151bc7d450"
   },
   "outputs": [],
   "source": [
    "agent.tracked_tensors()\n",
    "states = environment.reset()\n",
    "print(states.shape[0])\n",
    "img_ = Image.fromarray(states, 'RGB')\n",
    "plt.imshow(img_)"
   ]
  },
  {
   "cell_type": "markdown",
   "metadata": {
    "id": "7dxT5yxVAFhL"
   },
   "source": [
    "## Métodos específicos RISE"
   ]
  },
  {
   "cell_type": "code",
   "execution_count": null,
   "metadata": {
    "id": "jpguUo8zAFhM"
   },
   "outputs": [],
   "source": [
    "def generate_masks(N, s, p1, dimx, dimy):\n",
    "    cell_size = np.ceil(np.array((dimx,dimy)) / s) # si dividimos en s \"cachos\" dim entera\n",
    "    up_size = (s + 1) * cell_size # si cupiese uno mas dim\n",
    "    \n",
    "    grid = np.random.rand(N, s, s) < p1 #generar cuadrado s * s con 0 o 1\n",
    "    grid = grid.astype('float32')\n",
    "    masks = np.empty((N, dimx,dimy)) #lo rellenaremos\n",
    "\n",
    "    for i in tqdm(range(N), desc='Generating masks'):\n",
    "        # Random shifts\n",
    "        x = np.random.randint(0, cell_size[0]) #cuando shift en x\n",
    "        y = np.random.randint(0, cell_size[1]) #cuanto shift en y\n",
    "        # Linear upsampling and cropping\n",
    "        masks[i, :, :] = resize1(grid[i], up_size, order=1, mode='reflect',\n",
    "                                anti_aliasing=False)[x:x + dimx, y:y + dimy]\n",
    "        \n",
    "    masks = masks.reshape(-1, dimx,dimy , 1)\n",
    "    return masks"
   ]
  },
  {
   "cell_type": "code",
   "execution_count": null,
   "metadata": {
    "id": "m_kMkT18AFhM"
   },
   "outputs": [],
   "source": [
    "def explain(inp, masks , agent, dimx, dimy):\n",
    "    preds = []\n",
    "    # Make sure multiplication is being done for correct axes\n",
    "    masked = inp * masks\n",
    "    \n",
    "    for i in tqdm(range (0,N), desc = 'Explaining'):\n",
    "        decision = agent.act(states=masked[i], independent = True, deterministic = True)\n",
    "        elem = agent.tracked_tensors()['agent/policy/action-values']\n",
    "        softmax = tf.nn.softmax(elem).numpy()\n",
    "        preds.append(softmax)\n",
    "    \n",
    "    preds = np.array(preds)\n",
    "    \n",
    "\n",
    "    sal = preds.T.dot(masks.reshape(N, -1)).reshape(-1, dimx,dimy)\n",
    "    sal = sal / N / p1\n",
    "    return sal\n"
   ]
  },
  {
   "cell_type": "code",
   "execution_count": null,
   "metadata": {
    "id": "yD7SgCn3AFhO"
   },
   "outputs": [],
   "source": [
    "def saliency(class_idx,img, sal):\n",
    "    plt.title('Explanation for `{}`'.format(meanings[class_idx]))\n",
    "    plt.axis('off')\n",
    "    plt.imshow(img)\n",
    "    plt.imshow(sal[class_idx], cmap='jet', alpha=0.5)\n",
    "    plt.show()"
   ]
  },
  {
   "cell_type": "markdown",
   "metadata": {
    "id": "CamQTXojAFhO"
   },
   "source": [
    "## Creación de la explicación"
   ]
  },
  {
   "cell_type": "code",
   "execution_count": null,
   "metadata": {
    "id": "uTnEIallAFhO",
    "outputId": "3f322083-9936-47e6-f335-e863d2ea337d",
    "scrolled": true
   },
   "outputs": [],
   "source": [
    "states = environment.reset()\n",
    "terminal = False\n",
    "#constantes generacion mascaras\n",
    "N = 2000\n",
    "s = 8\n",
    "p1 = 0.9\n",
    "masks = generate_masks(N, s, p1,states.shape[0],states.shape[1])"
   ]
  },
  {
   "cell_type": "code",
   "execution_count": null,
   "metadata": {
    "id": "uOPTXxXvAFhP",
    "outputId": "5025e5b4-c1d8-4108-c2c4-14faf8b6dd8c"
   },
   "outputs": [],
   "source": [
    "i=0\n",
    "while(not terminal):\n",
    "    img = Image.fromarray(states, 'RGB')\n",
    "    actions = agent.act(states=states, independent = True, deterministic = True)\n",
    "    if i % 10 == 0:\n",
    "        sal = explain(states, masks , agent,states.shape[0],states.shape[1])\n",
    "        saliency(actions,img,sal)\n",
    "    states, terminal, reward = environment.execute(actions=actions)\n",
    "    i = i+1"
   ]
  },
  {
   "cell_type": "code",
   "execution_count": null,
   "metadata": {
    "id": "gtfHfHghAFhP"
   },
   "outputs": [],
   "source": [
    "environment.close()"
   ]
  },
  {
   "cell_type": "code",
   "execution_count": null,
   "metadata": {
    "id": "2GUNyae7AFhQ"
   },
   "outputs": [],
   "source": []
  }
 ],
 "metadata": {
  "colab": {
   "name": "RISEmetodimpl-nes.ipynb",
   "provenance": []
  },
  "kernelspec": {
   "display_name": "Python 3",
   "language": "python",
   "name": "python3"
  },
  "language_info": {
   "codemirror_mode": {
    "name": "ipython",
    "version": 3
   },
   "file_extension": ".py",
   "mimetype": "text/x-python",
   "name": "python",
   "nbconvert_exporter": "python",
   "pygments_lexer": "ipython3",
   "version": "3.7.4"
  }
 },
 "nbformat": 4,
 "nbformat_minor": 1
}
